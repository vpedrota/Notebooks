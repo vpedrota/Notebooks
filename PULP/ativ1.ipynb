{
 "cells": [
  {
   "cell_type": "markdown",
   "metadata": {},
   "source": [
    "### Case 1"
   ]
  },
  {
   "cell_type": "markdown",
   "metadata": {},
   "source": [
    "Exemplo presente no artigo\n",
    "\n",
    "matriz de intervalos 2x2 <br>\n",
    "[2 4]  [-2 1] <br>\n",
    "[-1 2] [2 4]"
   ]
  },
  {
   "cell_type": "markdown",
   "metadata": {},
   "source": [
    "Entradas:<br>\n",
    "    Número de linhas(m) e colunas(n) da matriz de intervalos <br>\n",
    "    m x n Intervalos <br>\n",
    "    Matriz coluna de intervalos B com m linhas <br>"
   ]
  },
  {
   "cell_type": "code",
   "execution_count": 1,
   "metadata": {},
   "outputs": [],
   "source": [
    "#importando bibliotecas \n",
    "import pulp\n",
    "import numpy as np\n",
    "import itertools "
   ]
  },
  {
   "cell_type": "code",
   "execution_count": 4,
   "metadata": {},
   "outputs": [
    {
     "name": "stdout",
     "output_type": "stream",
     "text": [
      "2 2\n",
      "2 4\n",
      "-2 1\n",
      "-1 2\n",
      "2 4\n"
     ]
    }
   ],
   "source": [
    "#lendo a matriz de intervalos para os coeficientes\n",
    "m, n = input().split(' ')\n",
    "m = int(m)\n",
    "n = int(n)\n",
    "\n",
    "matriz = []\n",
    "\n",
    "for linha in range(0,m):\n",
    "    aux = []\n",
    "    for coluna in range(0,n):\n",
    "        initial, end = input().split(' ')\n",
    "        initial = int(initial)\n",
    "        end = int(end)\n",
    "        aux.append({'initial':initial, 'end':end})    \n",
    "    matriz.append(aux)"
   ]
  },
  {
   "cell_type": "code",
   "execution_count": 6,
   "metadata": {},
   "outputs": [
    {
     "name": "stdout",
     "output_type": "stream",
     "text": [
      "-2 2\n",
      "-2 2\n"
     ]
    }
   ],
   "source": [
    "#lendo a matriz coluna de intervalos(Matriz B)\n",
    "matrizB = []\n",
    "\n",
    "for linha in range(0, m):\n",
    "    initial, end = input().split(' ')\n",
    "    initial = int(initial)\n",
    "    end = int(end)\n",
    "    matrizB.append({'initial' : initial, 'end' : end}) "
   ]
  },
  {
   "cell_type": "code",
   "execution_count": 7,
   "metadata": {},
   "outputs": [],
   "source": [
    "#declarando as variaveis no pulp\n",
    "var = []\n",
    "for x in range(0, n): \n",
    "    var.append(pulp.LpVariable('x' + str(x+1), cat='Continuous'))\n",
    "    \n",
    "#declarando o problema para minimazação\n",
    "min = pulp.LpProblem('intro', pulp.LpMinimize)\n",
    "\n",
    "#declarando o problema para maximização\n",
    "max = pulp.LpProblem('intro', pulp.LpMaximize)"
   ]
  },
  {
   "cell_type": "code",
   "execution_count": 8,
   "metadata": {},
   "outputs": [
    {
     "name": "stdout",
     "output_type": "stream",
     "text": [
      "intro:\n",
      "MINIMIZE\n",
      "None\n",
      "VARIABLES\n",
      "\n"
     ]
    }
   ],
   "source": [
    "print(min)"
   ]
  },
  {
   "cell_type": "code",
   "execution_count": 11,
   "metadata": {},
   "outputs": [
    {
     "name": "stdout",
     "output_type": "stream",
     "text": [
      "2 -2 2 1 4 -2 4 1 \n",
      "-1 2 -1 4 2 2 2 4 \n"
     ]
    }
   ],
   "source": [
    "#adicionando restrições dos intervalos\n",
    "aux2 = 0\n",
    "for row in range(0, m):\n",
    "    for i in itertools.product(['initial','end'], repeat=n):\n",
    "        aux2 = 0\n",
    "        for col in range(0, n):\n",
    "            print(matriz[row][col][i[col]], end = ' ')\n",
    "            aux2 += (matriz[row][col][i[col]]*var[col])\n",
    "        min += (aux2 <= matrizB[row]['end'])\n",
    "        min += (aux2 >= matrizB[row]['initial'])\n",
    "        max += (aux2 <= matrizB[row]['end'])\n",
    "        max += (aux2 >= matrizB[row]['initial'])\n",
    "    print()"
   ]
  },
  {
   "cell_type": "code",
   "execution_count": 12,
   "metadata": {},
   "outputs": [
    {
     "name": "stdout",
     "output_type": "stream",
     "text": [
      "intro:\n",
      "MINIMIZE\n",
      "None\n",
      "SUBJECT TO\n",
      "_C1: 2 x1 - 2 x2 <= 2\n",
      "\n",
      "_C2: 2 x1 - 2 x2 >= -2\n",
      "\n",
      "_C3: 2 x1 + x2 <= 2\n",
      "\n",
      "_C4: 2 x1 + x2 >= -2\n",
      "\n",
      "_C5: 4 x1 - 2 x2 <= 2\n",
      "\n",
      "_C6: 4 x1 - 2 x2 >= -2\n",
      "\n",
      "_C7: 4 x1 + x2 <= 2\n",
      "\n",
      "_C8: 4 x1 + x2 >= -2\n",
      "\n",
      "_C9: - x1 + 2 x2 <= 2\n",
      "\n",
      "_C10: - x1 + 2 x2 >= -2\n",
      "\n",
      "_C11: - x1 + 4 x2 <= 2\n",
      "\n",
      "_C12: - x1 + 4 x2 >= -2\n",
      "\n",
      "_C13: 2 x1 + 2 x2 <= 2\n",
      "\n",
      "_C14: 2 x1 + 2 x2 >= -2\n",
      "\n",
      "_C15: 2 x1 + 4 x2 <= 2\n",
      "\n",
      "_C16: 2 x1 + 4 x2 >= -2\n",
      "\n",
      "_C17: 2 x1 - 2 x2 <= 2\n",
      "\n",
      "_C18: 2 x1 - 2 x2 >= -2\n",
      "\n",
      "_C19: 2 x1 + x2 <= 2\n",
      "\n",
      "_C20: 2 x1 + x2 >= -2\n",
      "\n",
      "_C21: 4 x1 - 2 x2 <= 2\n",
      "\n",
      "_C22: 4 x1 - 2 x2 >= -2\n",
      "\n",
      "_C23: 4 x1 + x2 <= 2\n",
      "\n",
      "_C24: 4 x1 + x2 >= -2\n",
      "\n",
      "_C25: - x1 + 2 x2 <= 2\n",
      "\n",
      "_C26: - x1 + 2 x2 >= -2\n",
      "\n",
      "_C27: - x1 + 4 x2 <= 2\n",
      "\n",
      "_C28: - x1 + 4 x2 >= -2\n",
      "\n",
      "_C29: 2 x1 + 2 x2 <= 2\n",
      "\n",
      "_C30: 2 x1 + 2 x2 >= -2\n",
      "\n",
      "_C31: 2 x1 + 4 x2 <= 2\n",
      "\n",
      "_C32: 2 x1 + 4 x2 >= -2\n",
      "\n",
      "VARIABLES\n",
      "x1 free Continuous\n",
      "x2 free Continuous\n",
      "\n"
     ]
    }
   ],
   "source": [
    "print(min)"
   ]
  },
  {
   "cell_type": "code",
   "execution_count": 31,
   "metadata": {},
   "outputs": [
    {
     "name": "stdout",
     "output_type": "stream",
     "text": [
      "x1 está no intervalo: [-0.5, 0.5]\n",
      "x2 está no intervalo: [-0.5, 0.5]\n"
     ]
    }
   ],
   "source": [
    "#é necessário fazer a maximização/minimazação para cada variável presente no problema\n",
    "for x in range(0, n):\n",
    "    min += var[x]\n",
    "    min.solve()\n",
    "    print('x' + str(x + 1) + ' está no intervalo: ['  + str(var[x].value()) + ', ', end='')\n",
    "    max += var[x]\n",
    "    max.solve()\n",
    "    print(str(var[x].value()) + ']')"
   ]
  }
 ],
 "metadata": {
  "kernelspec": {
   "display_name": "Python 3",
   "language": "python",
   "name": "python3"
  },
  "language_info": {
   "codemirror_mode": {
    "name": "ipython",
    "version": 3
   },
   "file_extension": ".py",
   "mimetype": "text/x-python",
   "name": "python",
   "nbconvert_exporter": "python",
   "pygments_lexer": "ipython3",
   "version": "3.9.0"
  }
 },
 "nbformat": 4,
 "nbformat_minor": 4
}
